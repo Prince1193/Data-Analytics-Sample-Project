{
 "cells": [
  {
   "cell_type": "code",
   "execution_count": 1,
   "id": "2b81b9c8-f933-454c-9823-f1b2cd30e9bc",
   "metadata": {},
   "outputs": [],
   "source": [
    "import pandas as pd"
   ]
  },
  {
   "cell_type": "code",
   "execution_count": 3,
   "id": "005ce011-b318-4c8d-b5f2-327896d4f96b",
   "metadata": {},
   "outputs": [],
   "source": [
    "Content = pd.read_csv('Content.csv')"
   ]
  },
  {
   "cell_type": "code",
   "execution_count": 4,
   "id": "f02cd465-446f-4980-ac59-6ce950f74eed",
   "metadata": {},
   "outputs": [
    {
     "data": {
      "text/html": [
       "<div>\n",
       "<style scoped>\n",
       "    .dataframe tbody tr th:only-of-type {\n",
       "        vertical-align: middle;\n",
       "    }\n",
       "\n",
       "    .dataframe tbody tr th {\n",
       "        vertical-align: top;\n",
       "    }\n",
       "\n",
       "    .dataframe thead th {\n",
       "        text-align: right;\n",
       "    }\n",
       "</style>\n",
       "<table border=\"1\" class=\"dataframe\">\n",
       "  <thead>\n",
       "    <tr style=\"text-align: right;\">\n",
       "      <th></th>\n",
       "      <th>Unnamed: 0</th>\n",
       "      <th>Content ID</th>\n",
       "      <th>User ID</th>\n",
       "      <th>Type</th>\n",
       "      <th>Category</th>\n",
       "      <th>URL</th>\n",
       "    </tr>\n",
       "  </thead>\n",
       "  <tbody>\n",
       "    <tr>\n",
       "      <th>0</th>\n",
       "      <td>0</td>\n",
       "      <td>97522e57-d9ab-4bd6-97bf-c24d952602d2</td>\n",
       "      <td>8d3cd87d-8a31-4935-9a4f-b319bfe05f31</td>\n",
       "      <td>photo</td>\n",
       "      <td>Studying</td>\n",
       "      <td>https://socialbuzz.cdn.com/content/storage/975...</td>\n",
       "    </tr>\n",
       "    <tr>\n",
       "      <th>1</th>\n",
       "      <td>1</td>\n",
       "      <td>9f737e0a-3cdd-4d29-9d24-753f4e3be810</td>\n",
       "      <td>beb1f34e-7870-46d6-9fc7-2e12eb83ce43</td>\n",
       "      <td>photo</td>\n",
       "      <td>healthy eating</td>\n",
       "      <td>https://socialbuzz.cdn.com/content/storage/9f7...</td>\n",
       "    </tr>\n",
       "    <tr>\n",
       "      <th>2</th>\n",
       "      <td>2</td>\n",
       "      <td>230c4e4d-70c3-461d-b42c-ec09396efb3f</td>\n",
       "      <td>a5c65404-5894-4b87-82f2-d787cbee86b4</td>\n",
       "      <td>photo</td>\n",
       "      <td>healthy eating</td>\n",
       "      <td>https://socialbuzz.cdn.com/content/storage/230...</td>\n",
       "    </tr>\n",
       "    <tr>\n",
       "      <th>3</th>\n",
       "      <td>3</td>\n",
       "      <td>356fff80-da4d-4785-9f43-bc1261031dc6</td>\n",
       "      <td>9fb4ce88-fac1-406c-8544-1a899cee7aaf</td>\n",
       "      <td>photo</td>\n",
       "      <td>technology</td>\n",
       "      <td>https://socialbuzz.cdn.com/content/storage/356...</td>\n",
       "    </tr>\n",
       "    <tr>\n",
       "      <th>4</th>\n",
       "      <td>4</td>\n",
       "      <td>01ab84dd-6364-4236-abbb-3f237db77180</td>\n",
       "      <td>e206e31b-5f85-4964-b6ea-d7ee5324def1</td>\n",
       "      <td>video</td>\n",
       "      <td>food</td>\n",
       "      <td>https://socialbuzz.cdn.com/content/storage/01a...</td>\n",
       "    </tr>\n",
       "  </tbody>\n",
       "</table>\n",
       "</div>"
      ],
      "text/plain": [
       "   Unnamed: 0                            Content ID  \\\n",
       "0           0  97522e57-d9ab-4bd6-97bf-c24d952602d2   \n",
       "1           1  9f737e0a-3cdd-4d29-9d24-753f4e3be810   \n",
       "2           2  230c4e4d-70c3-461d-b42c-ec09396efb3f   \n",
       "3           3  356fff80-da4d-4785-9f43-bc1261031dc6   \n",
       "4           4  01ab84dd-6364-4236-abbb-3f237db77180   \n",
       "\n",
       "                                User ID   Type        Category  \\\n",
       "0  8d3cd87d-8a31-4935-9a4f-b319bfe05f31  photo        Studying   \n",
       "1  beb1f34e-7870-46d6-9fc7-2e12eb83ce43  photo  healthy eating   \n",
       "2  a5c65404-5894-4b87-82f2-d787cbee86b4  photo  healthy eating   \n",
       "3  9fb4ce88-fac1-406c-8544-1a899cee7aaf  photo      technology   \n",
       "4  e206e31b-5f85-4964-b6ea-d7ee5324def1  video            food   \n",
       "\n",
       "                                                 URL  \n",
       "0  https://socialbuzz.cdn.com/content/storage/975...  \n",
       "1  https://socialbuzz.cdn.com/content/storage/9f7...  \n",
       "2  https://socialbuzz.cdn.com/content/storage/230...  \n",
       "3  https://socialbuzz.cdn.com/content/storage/356...  \n",
       "4  https://socialbuzz.cdn.com/content/storage/01a...  "
      ]
     },
     "execution_count": 4,
     "metadata": {},
     "output_type": "execute_result"
    }
   ],
   "source": [
    "Content.head()"
   ]
  },
  {
   "cell_type": "code",
   "execution_count": 7,
   "id": "8c5f6fc3-291c-48c8-b452-1db74bb4f7b8",
   "metadata": {},
   "outputs": [
    {
     "data": {
      "text/plain": [
       "Unnamed: 0    0\n",
       "Content ID    0\n",
       "User ID       0\n",
       "Type          0\n",
       "Category      0\n",
       "dtype: int64"
      ]
     },
     "execution_count": 7,
     "metadata": {},
     "output_type": "execute_result"
    }
   ],
   "source": [
    "Content.isnull().sum()"
   ]
  },
  {
   "cell_type": "code",
   "execution_count": 6,
   "id": "2b3dedf0-85a6-41ac-bace-8dfcb777b33d",
   "metadata": {},
   "outputs": [],
   "source": [
    "del Content['URL']"
   ]
  },
  {
   "cell_type": "code",
   "execution_count": 9,
   "id": "29a08d20-22e4-4460-b8e3-8b760abd6a02",
   "metadata": {},
   "outputs": [],
   "source": [
    "del Content['User ID']"
   ]
  },
  {
   "cell_type": "code",
   "execution_count": 10,
   "id": "f6183e0c-0b05-4e01-84e2-2c80a58fc0f9",
   "metadata": {},
   "outputs": [
    {
     "data": {
      "text/html": [
       "<div>\n",
       "<style scoped>\n",
       "    .dataframe tbody tr th:only-of-type {\n",
       "        vertical-align: middle;\n",
       "    }\n",
       "\n",
       "    .dataframe tbody tr th {\n",
       "        vertical-align: top;\n",
       "    }\n",
       "\n",
       "    .dataframe thead th {\n",
       "        text-align: right;\n",
       "    }\n",
       "</style>\n",
       "<table border=\"1\" class=\"dataframe\">\n",
       "  <thead>\n",
       "    <tr style=\"text-align: right;\">\n",
       "      <th></th>\n",
       "      <th>Unnamed: 0</th>\n",
       "      <th>Content ID</th>\n",
       "      <th>Type</th>\n",
       "      <th>Category</th>\n",
       "    </tr>\n",
       "  </thead>\n",
       "  <tbody>\n",
       "    <tr>\n",
       "      <th>0</th>\n",
       "      <td>0</td>\n",
       "      <td>97522e57-d9ab-4bd6-97bf-c24d952602d2</td>\n",
       "      <td>photo</td>\n",
       "      <td>Studying</td>\n",
       "    </tr>\n",
       "    <tr>\n",
       "      <th>1</th>\n",
       "      <td>1</td>\n",
       "      <td>9f737e0a-3cdd-4d29-9d24-753f4e3be810</td>\n",
       "      <td>photo</td>\n",
       "      <td>healthy eating</td>\n",
       "    </tr>\n",
       "    <tr>\n",
       "      <th>2</th>\n",
       "      <td>2</td>\n",
       "      <td>230c4e4d-70c3-461d-b42c-ec09396efb3f</td>\n",
       "      <td>photo</td>\n",
       "      <td>healthy eating</td>\n",
       "    </tr>\n",
       "    <tr>\n",
       "      <th>3</th>\n",
       "      <td>3</td>\n",
       "      <td>356fff80-da4d-4785-9f43-bc1261031dc6</td>\n",
       "      <td>photo</td>\n",
       "      <td>technology</td>\n",
       "    </tr>\n",
       "    <tr>\n",
       "      <th>4</th>\n",
       "      <td>4</td>\n",
       "      <td>01ab84dd-6364-4236-abbb-3f237db77180</td>\n",
       "      <td>video</td>\n",
       "      <td>food</td>\n",
       "    </tr>\n",
       "  </tbody>\n",
       "</table>\n",
       "</div>"
      ],
      "text/plain": [
       "   Unnamed: 0                            Content ID   Type        Category\n",
       "0           0  97522e57-d9ab-4bd6-97bf-c24d952602d2  photo        Studying\n",
       "1           1  9f737e0a-3cdd-4d29-9d24-753f4e3be810  photo  healthy eating\n",
       "2           2  230c4e4d-70c3-461d-b42c-ec09396efb3f  photo  healthy eating\n",
       "3           3  356fff80-da4d-4785-9f43-bc1261031dc6  photo      technology\n",
       "4           4  01ab84dd-6364-4236-abbb-3f237db77180  video            food"
      ]
     },
     "execution_count": 10,
     "metadata": {},
     "output_type": "execute_result"
    }
   ],
   "source": [
    "Content.head()"
   ]
  },
  {
   "cell_type": "code",
   "execution_count": 12,
   "id": "a6a83b73-51b6-4f8b-a5fb-35f25c204e90",
   "metadata": {},
   "outputs": [
    {
     "name": "stdout",
     "output_type": "stream",
     "text": [
      "     Unnamed: 0                            Content ID   Type  \\\n",
      "50           50  2d949603-6676-4402-900b-2c2c78315ea0  audio   \n",
      "100         100  c8b044a9-8427-4b41-bc61-7b549ab1626c  photo   \n",
      "150         150  5651450a-d330-46e6-bac9-c7c7e7defaf2  photo   \n",
      "200         200  48a824bf-e495-4333-8acf-c800947ec2cd  audio   \n",
      "250         250  78461336-26e2-4d0c-ab9a-fefbe419a8dd  video   \n",
      "300         300  693b5f91-52b1-4464-916c-91adccbec996  photo   \n",
      "400         400  93081b1a-4446-438a-a0d7-fbcedc3c992d    GIF   \n",
      "450         450  bde82663-7be3-453d-afc2-539202df27c3  video   \n",
      "500         500  6380e982-07ac-4d21-bd23-cec0bcfa1ff9  photo   \n",
      "550         550  e4487829-621f-4265-8665-42a4c0610745  audio   \n",
      "600         600  0fbdd670-a266-4805-9bbc-c5ad73cf97b3  photo   \n",
      "650         650  9c8be342-6cff-4d80-bf94-fd0fd8ccd845  video   \n",
      "750         750  b0782637-2604-40f7-8fc6-5e7d9ffd2255  video   \n",
      "800         800  e1eb9e92-2e08-48b0-8be7-a2a98048aa08  video   \n",
      "850         850  dd942c3f-2ed5-4849-9e2b-7484f5a4eaf4  audio   \n",
      "900         900  bc8024c3-c51e-4875-b8df-419e9848f492    GIF   \n",
      "950         950  e4127cae-c2e9-4321-919a-be6d11636808  audio   \n",
      "\n",
      "              Category  \n",
      "50           \"culture\"  \n",
      "100         \"studying\"  \n",
      "150          \"animals\"  \n",
      "200           \"soccer\"  \n",
      "250             \"dogs\"  \n",
      "300          \"culture\"  \n",
      "400           \"soccer\"  \n",
      "450           \"tennis\"  \n",
      "500           \"soccer\"  \n",
      "550             \"food\"  \n",
      "600       \"technology\"  \n",
      "650             \"dogs\"  \n",
      "750          \"cooking\"  \n",
      "800  \"public speaking\"  \n",
      "850          \"culture\"  \n",
      "900         \"veganism\"  \n",
      "950          \"science\"  \n"
     ]
    }
   ],
   "source": [
    "mask = Content['Category'].str.contains('\"')\n",
    "print(Content[mask])"
   ]
  },
  {
   "cell_type": "code",
   "execution_count": 14,
   "id": "b95b7b5d-6711-4318-96e1-f559a98511c7",
   "metadata": {},
   "outputs": [],
   "source": [
    "Content['Category'] = Content['Category'].str.strip('\"')"
   ]
  },
  {
   "cell_type": "code",
   "execution_count": 15,
   "id": "aabadeca-1c22-4db5-bb79-0c88bc890cf8",
   "metadata": {},
   "outputs": [
    {
     "name": "stdout",
     "output_type": "stream",
     "text": [
      "     Unnamed: 0                            Content ID   Type         Category\n",
      "50           50  2d949603-6676-4402-900b-2c2c78315ea0  audio          culture\n",
      "100         100  c8b044a9-8427-4b41-bc61-7b549ab1626c  photo         studying\n",
      "150         150  5651450a-d330-46e6-bac9-c7c7e7defaf2  photo          animals\n",
      "200         200  48a824bf-e495-4333-8acf-c800947ec2cd  audio           soccer\n",
      "250         250  78461336-26e2-4d0c-ab9a-fefbe419a8dd  video             dogs\n",
      "300         300  693b5f91-52b1-4464-916c-91adccbec996  photo          culture\n",
      "400         400  93081b1a-4446-438a-a0d7-fbcedc3c992d    GIF           soccer\n",
      "450         450  bde82663-7be3-453d-afc2-539202df27c3  video           tennis\n",
      "500         500  6380e982-07ac-4d21-bd23-cec0bcfa1ff9  photo           soccer\n",
      "550         550  e4487829-621f-4265-8665-42a4c0610745  audio             food\n",
      "600         600  0fbdd670-a266-4805-9bbc-c5ad73cf97b3  photo       technology\n",
      "650         650  9c8be342-6cff-4d80-bf94-fd0fd8ccd845  video             dogs\n",
      "750         750  b0782637-2604-40f7-8fc6-5e7d9ffd2255  video          cooking\n",
      "800         800  e1eb9e92-2e08-48b0-8be7-a2a98048aa08  video  public speaking\n",
      "850         850  dd942c3f-2ed5-4849-9e2b-7484f5a4eaf4  audio          culture\n",
      "900         900  bc8024c3-c51e-4875-b8df-419e9848f492    GIF         veganism\n",
      "950         950  e4127cae-c2e9-4321-919a-be6d11636808  audio          science\n"
     ]
    }
   ],
   "source": [
    "print(Content[mask])"
   ]
  },
  {
   "cell_type": "code",
   "execution_count": 16,
   "id": "dc5a8b17-2d86-4203-b423-2ea66e99f55b",
   "metadata": {},
   "outputs": [],
   "source": [
    "Content.to_csv('cleaned_Content.csv', index=False)"
   ]
  },
  {
   "cell_type": "code",
   "execution_count": null,
   "id": "47b36afb-c08f-48d1-9a00-f3c86a51473f",
   "metadata": {},
   "outputs": [],
   "source": []
  }
 ],
 "metadata": {
  "kernelspec": {
   "display_name": "Python 3 (ipykernel)",
   "language": "python",
   "name": "python3"
  },
  "language_info": {
   "codemirror_mode": {
    "name": "ipython",
    "version": 3
   },
   "file_extension": ".py",
   "mimetype": "text/x-python",
   "name": "python",
   "nbconvert_exporter": "python",
   "pygments_lexer": "ipython3",
   "version": "3.11.7"
  }
 },
 "nbformat": 4,
 "nbformat_minor": 5
}
